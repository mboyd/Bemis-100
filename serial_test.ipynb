{
 "metadata": {
  "name": "serial_test"
 }, 
 "nbformat": 2, 
 "worksheets": [
  {
   "cells": [
    {
     "cell_type": "code", 
     "collapsed": true, 
     "input": [
      "import serial", 
      "import time"
     ], 
     "language": "python", 
     "outputs": [], 
     "prompt_number": "*"
    }, 
    {
     "cell_type": "code", 
     "collapsed": true, 
     "input": [
      "port = serial.Serial(port='/dev/tty.usbmodemfa1331', ", 
      "                     baudrate=115200,", 
      "                bytesize=serial.EIGHTBITS,", 
      "                stopbits=serial.STOPBITS_ONE,", 
      "                parity=serial.PARITY_NONE,", 
      "                timeout=.5,", 
      "                writeTimeout=0)"
     ], 
     "language": "python", 
     "outputs": [], 
     "prompt_number": "*"
    }, 
    {
     "cell_type": "code", 
     "collapsed": false, 
     "input": [
      "last_write_time = time.time()", 
      "for j in range(300):", 
      "    for i in range(20):", 
      "        to_write = chr((8*j + i)%50) + '\\xff\\xff\\x00'", 
      "        for c in to_write:", 
      "            port.write(c)", 
      "        #time.sleep(0.0012)", 
      "        #print repr(time.time())", 
      "    # assert port.read(1) == 'B'"
     ], 
     "language": "python", 
     "outputs": [], 
     "prompt_number": "*"
    }, 
    {
     "cell_type": "code", 
     "collapsed": true, 
     "input": [
      "port.close()"
     ], 
     "language": "python", 
     "outputs": [], 
     "prompt_number": "*"
    }, 
    {
     "cell_type": "code", 
     "collapsed": true, 
     "input": [], 
     "language": "python", 
     "outputs": [], 
     "prompt_number": "&nbsp;"
    }
   ]
  }
 ]
}