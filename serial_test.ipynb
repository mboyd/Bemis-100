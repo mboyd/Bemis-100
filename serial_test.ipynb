{
 "metadata": {
  "name": "serial_test"
 }, 
 "nbformat": 2, 
 "worksheets": [
  {
   "cells": [
    {
     "cell_type": "code", 
     "collapsed": true, 
     "input": [
      "import serial", 
      "import time"
     ], 
     "language": "python", 
     "outputs": [], 
     "prompt_number": 44
    }, 
    {
     "cell_type": "code", 
     "collapsed": true, 
     "input": [
      "port = serial.Serial(port='/dev/tty.usbmodemfa1331', baudrate=115200,", 
      "                bytesize=serial.EIGHTBITS,", 
      "                stopbits=serial.STOPBITS_ONE,", 
      "                parity=serial.PARITY_NONE,", 
      "                timeout=.5,", 
      "                writeTimeout=0)"
     ], 
     "language": "python", 
     "outputs": [], 
     "prompt_number": 87
    }, 
    {
     "cell_type": "code", 
     "collapsed": false, 
     "input": [
      "for j in range(500):", 
      "    # port.write('\\x00\\xff\\xff\\x00')", 
      "    # port.write('\\x01\\xff\\xff\\x00')", 
      "    # port.write('\\x02\\xff\\xff\\x00')", 
      "    # port.write('\\x03\\xff\\xff\\x00')", 
      "    # port.write('\\x04\\xff\\xff\\x00')", 
      "    # port.write('\\x05\\xff\\xff\\x00')", 
      "    # port.write('\\x06\\xff\\xff\\x00')", 
      "    # port.write('\\x07\\xff\\xff\\x00')", 
      "    # assert port.read(1) == 'B'", 
      "    # assert port.read(1) == ''", 
      "    # port.write('\\x10\\xff\\xff\\x00')", 
      "    # port.write('\\x11\\xff\\xff\\x00')", 
      "    # port.write('\\x12\\xff\\xff\\x00')", 
      "    # port.write('\\x13\\xff\\xff\\x00')", 
      "    # port.write('\\x14\\xff\\xff\\x00')", 
      "    # port.write('\\x15\\xff\\xff\\x00')", 
      "    # port.write('\\x16\\xff\\xff\\x00')", 
      "    # port.write('\\x17\\xff\\xff\\x00')", 
      "    # assert port.read(1) == 'B'", 
      "    # assert port.read(1) == ''", 
      "    for i in range(8):", 
      "        # print ord(chr((8*j + i)%50))", 
      "        port.write(chr((8*j + i)%25) + '\\xff\\xff\\x00')", 
      "        # time.sleep(0.0001)", 
      "        assert port.read(1) == 'B'", 
      "    # time.sleep(0.1)", 
      "    # assert port.read(1) == ''"
     ], 
     "language": "python", 
     "outputs": [], 
     "prompt_number": 88
    }, 
    {
     "cell_type": "code", 
     "collapsed": true, 
     "input": [
      "port.close()"
     ], 
     "language": "python", 
     "outputs": [], 
     "prompt_number": 86
    }, 
    {
     "cell_type": "code", 
     "collapsed": true, 
     "input": [], 
     "language": "python", 
     "outputs": [], 
     "prompt_number": "&nbsp;"
    }
   ]
  }
 ]
}