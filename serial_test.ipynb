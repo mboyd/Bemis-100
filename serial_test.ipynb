{
 "metadata": {
  "name": "serial_test"
 }, 
 "nbformat": 2, 
 "worksheets": [
  {
   "cells": [
    {
     "cell_type": "code", 
     "collapsed": true, 
     "input": [
      "import serial", 
      "import time"
     ], 
     "language": "python", 
     "outputs": [], 
     "prompt_number": 1
    }, 
    {
     "cell_type": "code", 
     "collapsed": true, 
     "input": [
      "port = serial.Serial(port='/dev/tty.usbmodemfa1331', ", 
      "                     baudrate=115200,", 
      "                bytesize=serial.EIGHTBITS,", 
      "                stopbits=serial.STOPBITS_ONE,", 
      "                parity=serial.PARITY_NONE,", 
      "                timeout=2,", 
      "                writeTimeout=0)"
     ], 
     "language": "python", 
     "outputs": [], 
     "prompt_number": 66
    }, 
    {
     "cell_type": "code", 
     "collapsed": false, 
     "input": [
      "frame_size = 16", 
      "for j in range(300):", 
      "        to_write = reduce(str.__add__, ", 
      "               [chr((8*j + i)%50) + '\\xff\\xff\\x00' ", 
      "                for i in range(frame_size/4)])", 
      "        port.write(to_write)", 
      "        received = port.read(frame_size)", 
      "        if to_write != received:", 
      "            print '%s %s' % (map(ord, to_write), map(ord, received))", 
      "        #time.sleep(0.0012)", 
      "        #print repr(time.time())", 
      "    # assert port.read(1) == 'B'"
     ], 
     "language": "python", 
     "outputs": [], 
     "prompt_number": 65
    }, 
    {
     "cell_type": "code", 
     "collapsed": true, 
     "input": [
      "port.close()"
     ], 
     "language": "python", 
     "outputs": [], 
     "prompt_number": 67
    }, 
    {
     "cell_type": "code", 
     "collapsed": true, 
     "input": [], 
     "language": "python", 
     "outputs": [], 
     "prompt_number": "&nbsp;"
    }
   ]
  }
 ]
}